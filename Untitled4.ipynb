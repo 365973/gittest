{
 "cells": [
  {
   "cell_type": "code",
   "execution_count": 2,
   "metadata": {},
   "outputs": [],
   "source": [
    "import tensorflow as tf\n",
    "from tensorflow.examples.tutorials.mnist import input_data"
   ]
  },
  {
   "cell_type": "code",
   "execution_count": 72,
   "metadata": {},
   "outputs": [
    {
     "name": "stdout",
     "output_type": "stream",
     "text": [
      "Extracting MNIST_data\\train-images-idx3-ubyte.gz\n",
      "Extracting MNIST_data\\train-labels-idx1-ubyte.gz\n",
      "Extracting MNIST_data\\t10k-images-idx3-ubyte.gz\n",
      "Extracting MNIST_data\\t10k-labels-idx1-ubyte.gz\n"
     ]
    }
   ],
   "source": [
    "mnist = input_data.read_data_sets('MNIST_data',one_hot=True)\n",
    "\n",
    "batch_size = 100\n",
    "n_batch = mnist.train.num_examples // batch_size\n",
    "\n",
    "x = tf.placeholder(tf.float32,[None,784])\n",
    "y = tf.placeholder(tf.float32,[None,10])\n",
    "\n",
    "W1 = tf.Variable(tf.random_normal([784,40],0,0.1))\n",
    "#W1 = tf.Variable(tf.zeros([784,50]))\n",
    "b1 = tf.Variable(tf.zeros([40]))\n",
    "L1 = tf.nn.leaky_relu(tf.matmul(x,W1)+b1)\n",
    "\n",
    "W2 = tf.Variable(tf.random_normal([40,10],0,0.1))\n",
    "b2 = tf.Variable(tf.zeros([10]))\n",
    "L2 = tf.matmul(L1,W2)+b2\n",
    "\n",
    "\n",
    "\n",
    "prediction = tf.nn.softmax(L2)\n",
    "#prediction = tf.nn.softmax(tf.matmul(x,W) + b)\n",
    "\n",
    "loss = tf.reduce_mean(tf.square(y-prediction))\n",
    "\n",
    "tran_step = tf.train.GradientDescentOptimizer(0.5).minimize(loss)\n",
    "\n",
    "init = tf.global_variables_initializer()\n",
    "\n",
    "correct_prediction = tf.equal(tf.argmax(y,1),tf.argmax(prediction,1))\n",
    "accuracy = tf.reduce_mean(tf.cast(correct_prediction,tf.float32))\n",
    "\n"
   ]
  },
  {
   "cell_type": "code",
   "execution_count": 73,
   "metadata": {},
   "outputs": [
    {
     "name": "stdout",
     "output_type": "stream",
     "text": [
      "Iter 0, Testing Accuracy 0.8574\n",
      "Iter 20, Testing Accuracy 0.9429\n",
      "Iter 40, Testing Accuracy 0.9534\n",
      "Iter 60, Testing Accuracy 0.9602\n",
      "Iter 80, Testing Accuracy 0.9629\n",
      "Iter 100, Testing Accuracy 0.9649\n",
      "Iter 120, Testing Accuracy 0.9652\n",
      "Iter 140, Testing Accuracy 0.9663\n",
      "Iter 160, Testing Accuracy 0.9664\n",
      "Iter 180, Testing Accuracy 0.9666\n",
      "Iter 200, Testing Accuracy 0.9662\n"
     ]
    }
   ],
   "source": [
    "device =\"/gpu:0\"\n",
    "with tf.device(device):\n",
    "    with tf.Session() as sess:\n",
    "        sess.run(init)\n",
    "        for epoch in range(201):\n",
    "            for batch in range(n_batch):\n",
    "                batch_xs,batch_ys = mnist.train.next_batch(batch_size)\n",
    "                sess.run(tran_step,feed_dict={x:batch_xs,y:batch_ys})\n",
    "            \n",
    "            acc = sess.run(accuracy,feed_dict={x:mnist.test.images,y:mnist.test.labels})\n",
    "            if(epoch%20==0):print(\"Iter \"+str(epoch) + \", Testing Accuracy \" + str(acc))\n",
    "        "
   ]
  },
  {
   "cell_type": "code",
   "execution_count": null,
   "metadata": {},
   "outputs": [],
   "source": []
  },
  {
   "cell_type": "code",
   "execution_count": null,
   "metadata": {},
   "outputs": [],
   "source": []
  }
 ],
 "metadata": {
  "kernelspec": {
   "display_name": "Python 3",
   "language": "python",
   "name": "python3"
  },
  "language_info": {
   "codemirror_mode": {
    "name": "ipython",
    "version": 3
   },
   "file_extension": ".py",
   "mimetype": "text/x-python",
   "name": "python",
   "nbconvert_exporter": "python",
   "pygments_lexer": "ipython3",
   "version": "3.6.4"
  }
 },
 "nbformat": 4,
 "nbformat_minor": 2
}
